{
 "cells": [
  {
   "cell_type": "code",
   "execution_count": 1,
   "id": "7ddff6d3",
   "metadata": {},
   "outputs": [],
   "source": [
    "import pandas as pd"
   ]
  },
  {
   "cell_type": "code",
   "execution_count": 2,
   "id": "b4ec6924",
   "metadata": {},
   "outputs": [],
   "source": [
    "dataset = pd.read_csv('upi_fraud_dataset.csv', index_col = 0)\n",
    "dataset = dataset.drop(columns=['category', 'state'])"
   ]
  },
  {
   "cell_type": "code",
   "execution_count": 3,
   "id": "200cdd12",
   "metadata": {},
   "outputs": [
    {
     "data": {
      "text/html": [
       "<div>\n",
       "<style scoped>\n",
       "    .dataframe tbody tr th:only-of-type {\n",
       "        vertical-align: middle;\n",
       "    }\n",
       "\n",
       "    .dataframe tbody tr th {\n",
       "        vertical-align: top;\n",
       "    }\n",
       "\n",
       "    .dataframe thead th {\n",
       "        text-align: right;\n",
       "    }\n",
       "</style>\n",
       "<table border=\"1\" class=\"dataframe\">\n",
       "  <thead>\n",
       "    <tr style=\"text-align: right;\">\n",
       "      <th></th>\n",
       "      <th>trans_day</th>\n",
       "      <th>trans_month</th>\n",
       "      <th>trans_year</th>\n",
       "      <th>upi_number</th>\n",
       "      <th>age</th>\n",
       "      <th>trans_amount</th>\n",
       "      <th>zip</th>\n",
       "      <th>fraud_risk</th>\n",
       "    </tr>\n",
       "    <tr>\n",
       "      <th>trans_hour</th>\n",
       "      <th></th>\n",
       "      <th></th>\n",
       "      <th></th>\n",
       "      <th></th>\n",
       "      <th></th>\n",
       "      <th></th>\n",
       "      <th></th>\n",
       "      <th></th>\n",
       "    </tr>\n",
       "  </thead>\n",
       "  <tbody>\n",
       "    <tr>\n",
       "      <th>22</th>\n",
       "      <td>16</td>\n",
       "      <td>9</td>\n",
       "      <td>2021</td>\n",
       "      <td>87</td>\n",
       "      <td>27</td>\n",
       "      <td>199.31</td>\n",
       "      <td>84946</td>\n",
       "      <td>1</td>\n",
       "    </tr>\n",
       "    <tr>\n",
       "      <th>12</th>\n",
       "      <td>13</td>\n",
       "      <td>7</td>\n",
       "      <td>2016</td>\n",
       "      <td>71990978</td>\n",
       "      <td>42</td>\n",
       "      <td>448.06</td>\n",
       "      <td>68524</td>\n",
       "      <td>1</td>\n",
       "    </tr>\n",
       "    <tr>\n",
       "      <th>13</th>\n",
       "      <td>10</td>\n",
       "      <td>8</td>\n",
       "      <td>2019</td>\n",
       "      <td>5601</td>\n",
       "      <td>70</td>\n",
       "      <td>127.79</td>\n",
       "      <td>34800</td>\n",
       "      <td>1</td>\n",
       "    </tr>\n",
       "    <tr>\n",
       "      <th>10</th>\n",
       "      <td>7</td>\n",
       "      <td>10</td>\n",
       "      <td>2023</td>\n",
       "      <td>671623009</td>\n",
       "      <td>61</td>\n",
       "      <td>967.70</td>\n",
       "      <td>7311</td>\n",
       "      <td>0</td>\n",
       "    </tr>\n",
       "    <tr>\n",
       "      <th>17</th>\n",
       "      <td>10</td>\n",
       "      <td>1</td>\n",
       "      <td>2022</td>\n",
       "      <td>666</td>\n",
       "      <td>40</td>\n",
       "      <td>911.30</td>\n",
       "      <td>60970</td>\n",
       "      <td>1</td>\n",
       "    </tr>\n",
       "  </tbody>\n",
       "</table>\n",
       "</div>"
      ],
      "text/plain": [
       "            trans_day  trans_month  trans_year  upi_number  age  trans_amount  \\\n",
       "trans_hour                                                                      \n",
       "22                 16            9        2021          87   27        199.31   \n",
       "12                 13            7        2016    71990978   42        448.06   \n",
       "13                 10            8        2019        5601   70        127.79   \n",
       "10                  7           10        2023   671623009   61        967.70   \n",
       "17                 10            1        2022         666   40        911.30   \n",
       "\n",
       "              zip  fraud_risk  \n",
       "trans_hour                     \n",
       "22          84946           1  \n",
       "12          68524           1  \n",
       "13          34800           1  \n",
       "10           7311           0  \n",
       "17          60970           1  "
      ]
     },
     "execution_count": 3,
     "metadata": {},
     "output_type": "execute_result"
    }
   ],
   "source": [
    "dataset.head()"
   ]
  },
  {
   "cell_type": "code",
   "execution_count": 4,
   "id": "f0b31326",
   "metadata": {},
   "outputs": [],
   "source": [
    "import numpy as np"
   ]
  },
  {
   "cell_type": "code",
   "execution_count": 5,
   "id": "7475f11d",
   "metadata": {},
   "outputs": [],
   "source": [
    "x = dataset.iloc[ : , : 10 ].values\n",
    "y = dataset.iloc[ :,7 ].values"
   ]
  },
  {
   "cell_type": "code",
   "execution_count": 6,
   "id": "5750e565",
   "metadata": {},
   "outputs": [],
   "source": [
    "from sklearn.model_selection import train_test_split"
   ]
  },
  {
   "cell_type": "code",
   "execution_count": 7,
   "id": "29f115d6",
   "metadata": {},
   "outputs": [],
   "source": [
    "x_train, x_test, y_train, y_test = train_test_split(x, y, test_size = 0.15, random_state = 0)"
   ]
  },
  {
   "cell_type": "code",
   "execution_count": 8,
   "id": "39e10a75",
   "metadata": {},
   "outputs": [
    {
     "data": {
      "text/plain": [
       "(850, 8)"
      ]
     },
     "execution_count": 8,
     "metadata": {},
     "output_type": "execute_result"
    }
   ],
   "source": [
    "x_train.shape"
   ]
  },
  {
   "cell_type": "code",
   "execution_count": 9,
   "id": "785339a2",
   "metadata": {},
   "outputs": [
    {
     "data": {
      "text/plain": [
       "(150, 8)"
      ]
     },
     "execution_count": 9,
     "metadata": {},
     "output_type": "execute_result"
    }
   ],
   "source": [
    "x_test.shape"
   ]
  },
  {
   "cell_type": "code",
   "execution_count": 10,
   "id": "1bcce8a0",
   "metadata": {},
   "outputs": [],
   "source": [
    "fraud = np.count_nonzero(y_train == 1)\n",
    "valid = np.count_nonzero(y_train == 0)"
   ]
  },
  {
   "cell_type": "code",
   "execution_count": 11,
   "id": "92bf9a9d",
   "metadata": {},
   "outputs": [
    {
     "name": "stdout",
     "output_type": "stream",
     "text": [
      "Fraud cases in training data =  420\n",
      "valid cases in training data =  430\n"
     ]
    }
   ],
   "source": [
    "print('Fraud cases in training data = ', fraud)\n",
    "print('valid cases in training data = ', valid)"
   ]
  },
  {
   "cell_type": "code",
   "execution_count": 12,
   "id": "af7d3aa4",
   "metadata": {},
   "outputs": [],
   "source": [
    "from sklearn.preprocessing import StandardScaler\n",
    "scaler = StandardScaler()"
   ]
  },
  {
   "cell_type": "code",
   "execution_count": 13,
   "id": "827c8f6b",
   "metadata": {},
   "outputs": [],
   "source": [
    "x_train = scaler.fit_transform(x_train)\n",
    "x_test = scaler.transform(x_test)"
   ]
  },
  {
   "cell_type": "code",
   "execution_count": 14,
   "id": "19317e7a",
   "metadata": {},
   "outputs": [
    {
     "data": {
      "text/plain": [
       "array([[ 0.76217427, -0.71097944, -0.78390142, -0.3693696 , -1.10510419,\n",
       "         1.52226495, -0.46928424, -0.98830369],\n",
       "       [-0.88825405, -1.28164283, -0.39673337, -0.370459  , -1.37026681,\n",
       "        -1.5223325 , -0.84639786,  1.01183473],\n",
       "       [ 0.2120315 , -0.14031606, -1.17106947, -0.36999802,  0.28699954,\n",
       "         0.75816644, -0.26526797, -0.98830369],\n",
       "       [-0.11805417, -0.71097944, -0.39673337, -0.3704576 ,  1.74539392,\n",
       "         1.51418606, -1.5222322 ,  1.01183473],\n",
       "       [ 0.65214571, -0.14031606, -0.39673337, -0.05741711, -1.37026681,\n",
       "        -0.73817975,  0.1483293 , -0.98830369]])"
      ]
     },
     "execution_count": 14,
     "metadata": {},
     "output_type": "execute_result"
    }
   ],
   "source": [
    "x_train[ : 5]"
   ]
  },
  {
   "cell_type": "code",
   "execution_count": 15,
   "id": "08ef5073",
   "metadata": {},
   "outputs": [
    {
     "data": {
      "text/plain": [
       "array([[-0.00802561, -1.56697452,  0.37760272, -0.32520305, -0.57477896,\n",
       "         0.83752544, -0.05067874,  1.01183473],\n",
       "       [ 0.87220282,  0.71567902, -0.00956533,  4.64063349,  0.4858715 ,\n",
       "         1.19317532,  1.33757794,  1.01183473],\n",
       "       [ 1.09225993,  0.43034733,  0.76477076,  0.77155682,  0.75103411,\n",
       "        -0.70847374,  0.264284  , -0.98830369],\n",
       "       [-0.11805417,  0.71567902,  1.15193881,  1.8919959 ,  0.94990607,\n",
       "         0.42818312, -1.00485305, -0.98830369],\n",
       "       [ 0.4320886 , -1.28164283, -1.55823751, -0.37040303, -0.83994158,\n",
       "         0.69560867,  0.53347697, -0.98830369]])"
      ]
     },
     "execution_count": 15,
     "metadata": {},
     "output_type": "execute_result"
    }
   ],
   "source": [
    "x_test[ : 5]"
   ]
  },
  {
   "cell_type": "code",
   "execution_count": 16,
   "id": "191a7a7d",
   "metadata": {},
   "outputs": [],
   "source": [
    "from sklearn.linear_model import LogisticRegression\n"
   ]
  },
  {
   "cell_type": "code",
   "execution_count": 17,
   "id": "99608e13",
   "metadata": {},
   "outputs": [],
   "source": [
    "LR_model = LogisticRegression(random_state=0)\n"
   ]
  },
  {
   "cell_type": "code",
   "execution_count": 18,
   "id": "8cc149eb",
   "metadata": {},
   "outputs": [
    {
     "data": {
      "text/html": [
       "<style>#sk-container-id-1 {color: black;}#sk-container-id-1 pre{padding: 0;}#sk-container-id-1 div.sk-toggleable {background-color: white;}#sk-container-id-1 label.sk-toggleable__label {cursor: pointer;display: block;width: 100%;margin-bottom: 0;padding: 0.3em;box-sizing: border-box;text-align: center;}#sk-container-id-1 label.sk-toggleable__label-arrow:before {content: \"▸\";float: left;margin-right: 0.25em;color: #696969;}#sk-container-id-1 label.sk-toggleable__label-arrow:hover:before {color: black;}#sk-container-id-1 div.sk-estimator:hover label.sk-toggleable__label-arrow:before {color: black;}#sk-container-id-1 div.sk-toggleable__content {max-height: 0;max-width: 0;overflow: hidden;text-align: left;background-color: #f0f8ff;}#sk-container-id-1 div.sk-toggleable__content pre {margin: 0.2em;color: black;border-radius: 0.25em;background-color: #f0f8ff;}#sk-container-id-1 input.sk-toggleable__control:checked~div.sk-toggleable__content {max-height: 200px;max-width: 100%;overflow: auto;}#sk-container-id-1 input.sk-toggleable__control:checked~label.sk-toggleable__label-arrow:before {content: \"▾\";}#sk-container-id-1 div.sk-estimator input.sk-toggleable__control:checked~label.sk-toggleable__label {background-color: #d4ebff;}#sk-container-id-1 div.sk-label input.sk-toggleable__control:checked~label.sk-toggleable__label {background-color: #d4ebff;}#sk-container-id-1 input.sk-hidden--visually {border: 0;clip: rect(1px 1px 1px 1px);clip: rect(1px, 1px, 1px, 1px);height: 1px;margin: -1px;overflow: hidden;padding: 0;position: absolute;width: 1px;}#sk-container-id-1 div.sk-estimator {font-family: monospace;background-color: #f0f8ff;border: 1px dotted black;border-radius: 0.25em;box-sizing: border-box;margin-bottom: 0.5em;}#sk-container-id-1 div.sk-estimator:hover {background-color: #d4ebff;}#sk-container-id-1 div.sk-parallel-item::after {content: \"\";width: 100%;border-bottom: 1px solid gray;flex-grow: 1;}#sk-container-id-1 div.sk-label:hover label.sk-toggleable__label {background-color: #d4ebff;}#sk-container-id-1 div.sk-serial::before {content: \"\";position: absolute;border-left: 1px solid gray;box-sizing: border-box;top: 0;bottom: 0;left: 50%;z-index: 0;}#sk-container-id-1 div.sk-serial {display: flex;flex-direction: column;align-items: center;background-color: white;padding-right: 0.2em;padding-left: 0.2em;position: relative;}#sk-container-id-1 div.sk-item {position: relative;z-index: 1;}#sk-container-id-1 div.sk-parallel {display: flex;align-items: stretch;justify-content: center;background-color: white;position: relative;}#sk-container-id-1 div.sk-item::before, #sk-container-id-1 div.sk-parallel-item::before {content: \"\";position: absolute;border-left: 1px solid gray;box-sizing: border-box;top: 0;bottom: 0;left: 50%;z-index: -1;}#sk-container-id-1 div.sk-parallel-item {display: flex;flex-direction: column;z-index: 1;position: relative;background-color: white;}#sk-container-id-1 div.sk-parallel-item:first-child::after {align-self: flex-end;width: 50%;}#sk-container-id-1 div.sk-parallel-item:last-child::after {align-self: flex-start;width: 50%;}#sk-container-id-1 div.sk-parallel-item:only-child::after {width: 0;}#sk-container-id-1 div.sk-dashed-wrapped {border: 1px dashed gray;margin: 0 0.4em 0.5em 0.4em;box-sizing: border-box;padding-bottom: 0.4em;background-color: white;}#sk-container-id-1 div.sk-label label {font-family: monospace;font-weight: bold;display: inline-block;line-height: 1.2em;}#sk-container-id-1 div.sk-label-container {text-align: center;}#sk-container-id-1 div.sk-container {/* jupyter's `normalize.less` sets `[hidden] { display: none; }` but bootstrap.min.css set `[hidden] { display: none !important; }` so we also need the `!important` here to be able to override the default hidden behavior on the sphinx rendered scikit-learn.org. See: https://github.com/scikit-learn/scikit-learn/issues/21755 */display: inline-block !important;position: relative;}#sk-container-id-1 div.sk-text-repr-fallback {display: none;}</style><div id=\"sk-container-id-1\" class=\"sk-top-container\"><div class=\"sk-text-repr-fallback\"><pre>LogisticRegression(random_state=0)</pre><b>In a Jupyter environment, please rerun this cell to show the HTML representation or trust the notebook. <br />On GitHub, the HTML representation is unable to render, please try loading this page with nbviewer.org.</b></div><div class=\"sk-container\" hidden><div class=\"sk-item\"><div class=\"sk-estimator sk-toggleable\"><input class=\"sk-toggleable__control sk-hidden--visually\" id=\"sk-estimator-id-1\" type=\"checkbox\" checked><label for=\"sk-estimator-id-1\" class=\"sk-toggleable__label sk-toggleable__label-arrow\">LogisticRegression</label><div class=\"sk-toggleable__content\"><pre>LogisticRegression(random_state=0)</pre></div></div></div></div></div>"
      ],
      "text/plain": [
       "LogisticRegression(random_state=0)"
      ]
     },
     "execution_count": 18,
     "metadata": {},
     "output_type": "execute_result"
    }
   ],
   "source": [
    "LR_model.fit(x_train, y_train)\n"
   ]
  },
  {
   "cell_type": "code",
   "execution_count": 19,
   "id": "14ca45b0",
   "metadata": {},
   "outputs": [],
   "source": [
    "y_pred = LR_model.predict(x_test)"
   ]
  },
  {
   "cell_type": "code",
   "execution_count": 20,
   "id": "2d5c3cfc",
   "metadata": {},
   "outputs": [],
   "source": [
    "from sklearn.metrics import accuracy_score"
   ]
  },
  {
   "cell_type": "code",
   "execution_count": 21,
   "id": "567a9f53",
   "metadata": {},
   "outputs": [],
   "source": [
    "acc_lr = accuracy_score(y_test,y_pred)"
   ]
  },
  {
   "cell_type": "code",
   "execution_count": 22,
   "id": "59423dc7",
   "metadata": {},
   "outputs": [
    {
     "name": "stdout",
     "output_type": "stream",
     "text": [
      "1.0\n"
     ]
    }
   ],
   "source": [
    "print(acc_lr)"
   ]
  },
  {
   "cell_type": "code",
   "execution_count": 23,
   "id": "96d9b23f",
   "metadata": {},
   "outputs": [
    {
     "data": {
      "text/html": [
       "<style>#sk-container-id-2 {color: black;}#sk-container-id-2 pre{padding: 0;}#sk-container-id-2 div.sk-toggleable {background-color: white;}#sk-container-id-2 label.sk-toggleable__label {cursor: pointer;display: block;width: 100%;margin-bottom: 0;padding: 0.3em;box-sizing: border-box;text-align: center;}#sk-container-id-2 label.sk-toggleable__label-arrow:before {content: \"▸\";float: left;margin-right: 0.25em;color: #696969;}#sk-container-id-2 label.sk-toggleable__label-arrow:hover:before {color: black;}#sk-container-id-2 div.sk-estimator:hover label.sk-toggleable__label-arrow:before {color: black;}#sk-container-id-2 div.sk-toggleable__content {max-height: 0;max-width: 0;overflow: hidden;text-align: left;background-color: #f0f8ff;}#sk-container-id-2 div.sk-toggleable__content pre {margin: 0.2em;color: black;border-radius: 0.25em;background-color: #f0f8ff;}#sk-container-id-2 input.sk-toggleable__control:checked~div.sk-toggleable__content {max-height: 200px;max-width: 100%;overflow: auto;}#sk-container-id-2 input.sk-toggleable__control:checked~label.sk-toggleable__label-arrow:before {content: \"▾\";}#sk-container-id-2 div.sk-estimator input.sk-toggleable__control:checked~label.sk-toggleable__label {background-color: #d4ebff;}#sk-container-id-2 div.sk-label input.sk-toggleable__control:checked~label.sk-toggleable__label {background-color: #d4ebff;}#sk-container-id-2 input.sk-hidden--visually {border: 0;clip: rect(1px 1px 1px 1px);clip: rect(1px, 1px, 1px, 1px);height: 1px;margin: -1px;overflow: hidden;padding: 0;position: absolute;width: 1px;}#sk-container-id-2 div.sk-estimator {font-family: monospace;background-color: #f0f8ff;border: 1px dotted black;border-radius: 0.25em;box-sizing: border-box;margin-bottom: 0.5em;}#sk-container-id-2 div.sk-estimator:hover {background-color: #d4ebff;}#sk-container-id-2 div.sk-parallel-item::after {content: \"\";width: 100%;border-bottom: 1px solid gray;flex-grow: 1;}#sk-container-id-2 div.sk-label:hover label.sk-toggleable__label {background-color: #d4ebff;}#sk-container-id-2 div.sk-serial::before {content: \"\";position: absolute;border-left: 1px solid gray;box-sizing: border-box;top: 0;bottom: 0;left: 50%;z-index: 0;}#sk-container-id-2 div.sk-serial {display: flex;flex-direction: column;align-items: center;background-color: white;padding-right: 0.2em;padding-left: 0.2em;position: relative;}#sk-container-id-2 div.sk-item {position: relative;z-index: 1;}#sk-container-id-2 div.sk-parallel {display: flex;align-items: stretch;justify-content: center;background-color: white;position: relative;}#sk-container-id-2 div.sk-item::before, #sk-container-id-2 div.sk-parallel-item::before {content: \"\";position: absolute;border-left: 1px solid gray;box-sizing: border-box;top: 0;bottom: 0;left: 50%;z-index: -1;}#sk-container-id-2 div.sk-parallel-item {display: flex;flex-direction: column;z-index: 1;position: relative;background-color: white;}#sk-container-id-2 div.sk-parallel-item:first-child::after {align-self: flex-end;width: 50%;}#sk-container-id-2 div.sk-parallel-item:last-child::after {align-self: flex-start;width: 50%;}#sk-container-id-2 div.sk-parallel-item:only-child::after {width: 0;}#sk-container-id-2 div.sk-dashed-wrapped {border: 1px dashed gray;margin: 0 0.4em 0.5em 0.4em;box-sizing: border-box;padding-bottom: 0.4em;background-color: white;}#sk-container-id-2 div.sk-label label {font-family: monospace;font-weight: bold;display: inline-block;line-height: 1.2em;}#sk-container-id-2 div.sk-label-container {text-align: center;}#sk-container-id-2 div.sk-container {/* jupyter's `normalize.less` sets `[hidden] { display: none; }` but bootstrap.min.css set `[hidden] { display: none !important; }` so we also need the `!important` here to be able to override the default hidden behavior on the sphinx rendered scikit-learn.org. See: https://github.com/scikit-learn/scikit-learn/issues/21755 */display: inline-block !important;position: relative;}#sk-container-id-2 div.sk-text-repr-fallback {display: none;}</style><div id=\"sk-container-id-2\" class=\"sk-top-container\"><div class=\"sk-text-repr-fallback\"><pre>KNeighborsClassifier()</pre><b>In a Jupyter environment, please rerun this cell to show the HTML representation or trust the notebook. <br />On GitHub, the HTML representation is unable to render, please try loading this page with nbviewer.org.</b></div><div class=\"sk-container\" hidden><div class=\"sk-item\"><div class=\"sk-estimator sk-toggleable\"><input class=\"sk-toggleable__control sk-hidden--visually\" id=\"sk-estimator-id-2\" type=\"checkbox\" checked><label for=\"sk-estimator-id-2\" class=\"sk-toggleable__label sk-toggleable__label-arrow\">KNeighborsClassifier</label><div class=\"sk-toggleable__content\"><pre>KNeighborsClassifier()</pre></div></div></div></div></div>"
      ],
      "text/plain": [
       "KNeighborsClassifier()"
      ]
     },
     "execution_count": 23,
     "metadata": {},
     "output_type": "execute_result"
    }
   ],
   "source": [
    "from sklearn.neighbors import KNeighborsClassifier\n",
    "KNN_model = KNeighborsClassifier(n_neighbors = 5, metric = 'minkowski', p=2)\n",
    "KNN_model.fit(x_train, y_train)"
   ]
  },
  {
   "cell_type": "code",
   "execution_count": 24,
   "id": "cd8a5fbf",
   "metadata": {},
   "outputs": [],
   "source": [
    "y_pred = KNN_model.predict(x_test)"
   ]
  },
  {
   "cell_type": "code",
   "execution_count": 25,
   "id": "db84f695",
   "metadata": {},
   "outputs": [],
   "source": [
    "acc_knn = accuracy_score(y_test, y_pred)"
   ]
  },
  {
   "cell_type": "code",
   "execution_count": 26,
   "id": "c2110c2c",
   "metadata": {},
   "outputs": [
    {
     "name": "stdout",
     "output_type": "stream",
     "text": [
      "1.0\n"
     ]
    }
   ],
   "source": [
    "print(acc_knn)"
   ]
  },
  {
   "cell_type": "code",
   "execution_count": 27,
   "id": "15ed8ab1",
   "metadata": {},
   "outputs": [
    {
     "data": {
      "text/html": [
       "<style>#sk-container-id-3 {color: black;}#sk-container-id-3 pre{padding: 0;}#sk-container-id-3 div.sk-toggleable {background-color: white;}#sk-container-id-3 label.sk-toggleable__label {cursor: pointer;display: block;width: 100%;margin-bottom: 0;padding: 0.3em;box-sizing: border-box;text-align: center;}#sk-container-id-3 label.sk-toggleable__label-arrow:before {content: \"▸\";float: left;margin-right: 0.25em;color: #696969;}#sk-container-id-3 label.sk-toggleable__label-arrow:hover:before {color: black;}#sk-container-id-3 div.sk-estimator:hover label.sk-toggleable__label-arrow:before {color: black;}#sk-container-id-3 div.sk-toggleable__content {max-height: 0;max-width: 0;overflow: hidden;text-align: left;background-color: #f0f8ff;}#sk-container-id-3 div.sk-toggleable__content pre {margin: 0.2em;color: black;border-radius: 0.25em;background-color: #f0f8ff;}#sk-container-id-3 input.sk-toggleable__control:checked~div.sk-toggleable__content {max-height: 200px;max-width: 100%;overflow: auto;}#sk-container-id-3 input.sk-toggleable__control:checked~label.sk-toggleable__label-arrow:before {content: \"▾\";}#sk-container-id-3 div.sk-estimator input.sk-toggleable__control:checked~label.sk-toggleable__label {background-color: #d4ebff;}#sk-container-id-3 div.sk-label input.sk-toggleable__control:checked~label.sk-toggleable__label {background-color: #d4ebff;}#sk-container-id-3 input.sk-hidden--visually {border: 0;clip: rect(1px 1px 1px 1px);clip: rect(1px, 1px, 1px, 1px);height: 1px;margin: -1px;overflow: hidden;padding: 0;position: absolute;width: 1px;}#sk-container-id-3 div.sk-estimator {font-family: monospace;background-color: #f0f8ff;border: 1px dotted black;border-radius: 0.25em;box-sizing: border-box;margin-bottom: 0.5em;}#sk-container-id-3 div.sk-estimator:hover {background-color: #d4ebff;}#sk-container-id-3 div.sk-parallel-item::after {content: \"\";width: 100%;border-bottom: 1px solid gray;flex-grow: 1;}#sk-container-id-3 div.sk-label:hover label.sk-toggleable__label {background-color: #d4ebff;}#sk-container-id-3 div.sk-serial::before {content: \"\";position: absolute;border-left: 1px solid gray;box-sizing: border-box;top: 0;bottom: 0;left: 50%;z-index: 0;}#sk-container-id-3 div.sk-serial {display: flex;flex-direction: column;align-items: center;background-color: white;padding-right: 0.2em;padding-left: 0.2em;position: relative;}#sk-container-id-3 div.sk-item {position: relative;z-index: 1;}#sk-container-id-3 div.sk-parallel {display: flex;align-items: stretch;justify-content: center;background-color: white;position: relative;}#sk-container-id-3 div.sk-item::before, #sk-container-id-3 div.sk-parallel-item::before {content: \"\";position: absolute;border-left: 1px solid gray;box-sizing: border-box;top: 0;bottom: 0;left: 50%;z-index: -1;}#sk-container-id-3 div.sk-parallel-item {display: flex;flex-direction: column;z-index: 1;position: relative;background-color: white;}#sk-container-id-3 div.sk-parallel-item:first-child::after {align-self: flex-end;width: 50%;}#sk-container-id-3 div.sk-parallel-item:last-child::after {align-self: flex-start;width: 50%;}#sk-container-id-3 div.sk-parallel-item:only-child::after {width: 0;}#sk-container-id-3 div.sk-dashed-wrapped {border: 1px dashed gray;margin: 0 0.4em 0.5em 0.4em;box-sizing: border-box;padding-bottom: 0.4em;background-color: white;}#sk-container-id-3 div.sk-label label {font-family: monospace;font-weight: bold;display: inline-block;line-height: 1.2em;}#sk-container-id-3 div.sk-label-container {text-align: center;}#sk-container-id-3 div.sk-container {/* jupyter's `normalize.less` sets `[hidden] { display: none; }` but bootstrap.min.css set `[hidden] { display: none !important; }` so we also need the `!important` here to be able to override the default hidden behavior on the sphinx rendered scikit-learn.org. See: https://github.com/scikit-learn/scikit-learn/issues/21755 */display: inline-block !important;position: relative;}#sk-container-id-3 div.sk-text-repr-fallback {display: none;}</style><div id=\"sk-container-id-3\" class=\"sk-top-container\"><div class=\"sk-text-repr-fallback\"><pre>SVC(kernel=&#x27;linear&#x27;, random_state=0)</pre><b>In a Jupyter environment, please rerun this cell to show the HTML representation or trust the notebook. <br />On GitHub, the HTML representation is unable to render, please try loading this page with nbviewer.org.</b></div><div class=\"sk-container\" hidden><div class=\"sk-item\"><div class=\"sk-estimator sk-toggleable\"><input class=\"sk-toggleable__control sk-hidden--visually\" id=\"sk-estimator-id-3\" type=\"checkbox\" checked><label for=\"sk-estimator-id-3\" class=\"sk-toggleable__label sk-toggleable__label-arrow\">SVC</label><div class=\"sk-toggleable__content\"><pre>SVC(kernel=&#x27;linear&#x27;, random_state=0)</pre></div></div></div></div></div>"
      ],
      "text/plain": [
       "SVC(kernel='linear', random_state=0)"
      ]
     },
     "execution_count": 27,
     "metadata": {},
     "output_type": "execute_result"
    }
   ],
   "source": [
    "from sklearn.svm import SVC\n",
    "SVM_model = SVC(kernel = 'linear',random_state = 0)\n",
    "SVM_model.fit(x_train, y_train)"
   ]
  },
  {
   "cell_type": "code",
   "execution_count": 28,
   "id": "d82d425e",
   "metadata": {},
   "outputs": [],
   "source": [
    "y_pred = SVM_model.predict(x_test)"
   ]
  },
  {
   "cell_type": "code",
   "execution_count": 29,
   "id": "d9f9e3fd",
   "metadata": {},
   "outputs": [],
   "source": [
    "acc_svm = accuracy_score(y_test, y_pred)"
   ]
  },
  {
   "cell_type": "code",
   "execution_count": 30,
   "id": "ae9d6b72",
   "metadata": {},
   "outputs": [
    {
     "name": "stdout",
     "output_type": "stream",
     "text": [
      "1.0\n"
     ]
    }
   ],
   "source": [
    "print(acc_svm)"
   ]
  },
  {
   "cell_type": "code",
   "execution_count": 31,
   "id": "1e59b62e",
   "metadata": {},
   "outputs": [
    {
     "data": {
      "text/html": [
       "<style>#sk-container-id-4 {color: black;}#sk-container-id-4 pre{padding: 0;}#sk-container-id-4 div.sk-toggleable {background-color: white;}#sk-container-id-4 label.sk-toggleable__label {cursor: pointer;display: block;width: 100%;margin-bottom: 0;padding: 0.3em;box-sizing: border-box;text-align: center;}#sk-container-id-4 label.sk-toggleable__label-arrow:before {content: \"▸\";float: left;margin-right: 0.25em;color: #696969;}#sk-container-id-4 label.sk-toggleable__label-arrow:hover:before {color: black;}#sk-container-id-4 div.sk-estimator:hover label.sk-toggleable__label-arrow:before {color: black;}#sk-container-id-4 div.sk-toggleable__content {max-height: 0;max-width: 0;overflow: hidden;text-align: left;background-color: #f0f8ff;}#sk-container-id-4 div.sk-toggleable__content pre {margin: 0.2em;color: black;border-radius: 0.25em;background-color: #f0f8ff;}#sk-container-id-4 input.sk-toggleable__control:checked~div.sk-toggleable__content {max-height: 200px;max-width: 100%;overflow: auto;}#sk-container-id-4 input.sk-toggleable__control:checked~label.sk-toggleable__label-arrow:before {content: \"▾\";}#sk-container-id-4 div.sk-estimator input.sk-toggleable__control:checked~label.sk-toggleable__label {background-color: #d4ebff;}#sk-container-id-4 div.sk-label input.sk-toggleable__control:checked~label.sk-toggleable__label {background-color: #d4ebff;}#sk-container-id-4 input.sk-hidden--visually {border: 0;clip: rect(1px 1px 1px 1px);clip: rect(1px, 1px, 1px, 1px);height: 1px;margin: -1px;overflow: hidden;padding: 0;position: absolute;width: 1px;}#sk-container-id-4 div.sk-estimator {font-family: monospace;background-color: #f0f8ff;border: 1px dotted black;border-radius: 0.25em;box-sizing: border-box;margin-bottom: 0.5em;}#sk-container-id-4 div.sk-estimator:hover {background-color: #d4ebff;}#sk-container-id-4 div.sk-parallel-item::after {content: \"\";width: 100%;border-bottom: 1px solid gray;flex-grow: 1;}#sk-container-id-4 div.sk-label:hover label.sk-toggleable__label {background-color: #d4ebff;}#sk-container-id-4 div.sk-serial::before {content: \"\";position: absolute;border-left: 1px solid gray;box-sizing: border-box;top: 0;bottom: 0;left: 50%;z-index: 0;}#sk-container-id-4 div.sk-serial {display: flex;flex-direction: column;align-items: center;background-color: white;padding-right: 0.2em;padding-left: 0.2em;position: relative;}#sk-container-id-4 div.sk-item {position: relative;z-index: 1;}#sk-container-id-4 div.sk-parallel {display: flex;align-items: stretch;justify-content: center;background-color: white;position: relative;}#sk-container-id-4 div.sk-item::before, #sk-container-id-4 div.sk-parallel-item::before {content: \"\";position: absolute;border-left: 1px solid gray;box-sizing: border-box;top: 0;bottom: 0;left: 50%;z-index: -1;}#sk-container-id-4 div.sk-parallel-item {display: flex;flex-direction: column;z-index: 1;position: relative;background-color: white;}#sk-container-id-4 div.sk-parallel-item:first-child::after {align-self: flex-end;width: 50%;}#sk-container-id-4 div.sk-parallel-item:last-child::after {align-self: flex-start;width: 50%;}#sk-container-id-4 div.sk-parallel-item:only-child::after {width: 0;}#sk-container-id-4 div.sk-dashed-wrapped {border: 1px dashed gray;margin: 0 0.4em 0.5em 0.4em;box-sizing: border-box;padding-bottom: 0.4em;background-color: white;}#sk-container-id-4 div.sk-label label {font-family: monospace;font-weight: bold;display: inline-block;line-height: 1.2em;}#sk-container-id-4 div.sk-label-container {text-align: center;}#sk-container-id-4 div.sk-container {/* jupyter's `normalize.less` sets `[hidden] { display: none; }` but bootstrap.min.css set `[hidden] { display: none !important; }` so we also need the `!important` here to be able to override the default hidden behavior on the sphinx rendered scikit-learn.org. See: https://github.com/scikit-learn/scikit-learn/issues/21755 */display: inline-block !important;position: relative;}#sk-container-id-4 div.sk-text-repr-fallback {display: none;}</style><div id=\"sk-container-id-4\" class=\"sk-top-container\"><div class=\"sk-text-repr-fallback\"><pre>GaussianNB()</pre><b>In a Jupyter environment, please rerun this cell to show the HTML representation or trust the notebook. <br />On GitHub, the HTML representation is unable to render, please try loading this page with nbviewer.org.</b></div><div class=\"sk-container\" hidden><div class=\"sk-item\"><div class=\"sk-estimator sk-toggleable\"><input class=\"sk-toggleable__control sk-hidden--visually\" id=\"sk-estimator-id-4\" type=\"checkbox\" checked><label for=\"sk-estimator-id-4\" class=\"sk-toggleable__label sk-toggleable__label-arrow\">GaussianNB</label><div class=\"sk-toggleable__content\"><pre>GaussianNB()</pre></div></div></div></div></div>"
      ],
      "text/plain": [
       "GaussianNB()"
      ]
     },
     "execution_count": 31,
     "metadata": {},
     "output_type": "execute_result"
    }
   ],
   "source": [
    "from sklearn.naive_bayes import GaussianNB\n",
    "NB_model = GaussianNB()\n",
    "NB_model.fit(x_train, y_train)"
   ]
  },
  {
   "cell_type": "code",
   "execution_count": 32,
   "id": "940032ba",
   "metadata": {},
   "outputs": [],
   "source": [
    "y_pred = NB_model.predict(x_test)"
   ]
  },
  {
   "cell_type": "code",
   "execution_count": 33,
   "id": "7f8ff7d2",
   "metadata": {},
   "outputs": [],
   "source": [
    "acc_nb = accuracy_score(y_test, y_pred)"
   ]
  },
  {
   "cell_type": "code",
   "execution_count": 34,
   "id": "dc3c7cff",
   "metadata": {},
   "outputs": [
    {
     "name": "stdout",
     "output_type": "stream",
     "text": [
      "1.0\n"
     ]
    }
   ],
   "source": [
    "print(acc_nb)"
   ]
  },
  {
   "cell_type": "code",
   "execution_count": 35,
   "id": "52734e23",
   "metadata": {},
   "outputs": [
    {
     "data": {
      "text/html": [
       "<style>#sk-container-id-5 {color: black;}#sk-container-id-5 pre{padding: 0;}#sk-container-id-5 div.sk-toggleable {background-color: white;}#sk-container-id-5 label.sk-toggleable__label {cursor: pointer;display: block;width: 100%;margin-bottom: 0;padding: 0.3em;box-sizing: border-box;text-align: center;}#sk-container-id-5 label.sk-toggleable__label-arrow:before {content: \"▸\";float: left;margin-right: 0.25em;color: #696969;}#sk-container-id-5 label.sk-toggleable__label-arrow:hover:before {color: black;}#sk-container-id-5 div.sk-estimator:hover label.sk-toggleable__label-arrow:before {color: black;}#sk-container-id-5 div.sk-toggleable__content {max-height: 0;max-width: 0;overflow: hidden;text-align: left;background-color: #f0f8ff;}#sk-container-id-5 div.sk-toggleable__content pre {margin: 0.2em;color: black;border-radius: 0.25em;background-color: #f0f8ff;}#sk-container-id-5 input.sk-toggleable__control:checked~div.sk-toggleable__content {max-height: 200px;max-width: 100%;overflow: auto;}#sk-container-id-5 input.sk-toggleable__control:checked~label.sk-toggleable__label-arrow:before {content: \"▾\";}#sk-container-id-5 div.sk-estimator input.sk-toggleable__control:checked~label.sk-toggleable__label {background-color: #d4ebff;}#sk-container-id-5 div.sk-label input.sk-toggleable__control:checked~label.sk-toggleable__label {background-color: #d4ebff;}#sk-container-id-5 input.sk-hidden--visually {border: 0;clip: rect(1px 1px 1px 1px);clip: rect(1px, 1px, 1px, 1px);height: 1px;margin: -1px;overflow: hidden;padding: 0;position: absolute;width: 1px;}#sk-container-id-5 div.sk-estimator {font-family: monospace;background-color: #f0f8ff;border: 1px dotted black;border-radius: 0.25em;box-sizing: border-box;margin-bottom: 0.5em;}#sk-container-id-5 div.sk-estimator:hover {background-color: #d4ebff;}#sk-container-id-5 div.sk-parallel-item::after {content: \"\";width: 100%;border-bottom: 1px solid gray;flex-grow: 1;}#sk-container-id-5 div.sk-label:hover label.sk-toggleable__label {background-color: #d4ebff;}#sk-container-id-5 div.sk-serial::before {content: \"\";position: absolute;border-left: 1px solid gray;box-sizing: border-box;top: 0;bottom: 0;left: 50%;z-index: 0;}#sk-container-id-5 div.sk-serial {display: flex;flex-direction: column;align-items: center;background-color: white;padding-right: 0.2em;padding-left: 0.2em;position: relative;}#sk-container-id-5 div.sk-item {position: relative;z-index: 1;}#sk-container-id-5 div.sk-parallel {display: flex;align-items: stretch;justify-content: center;background-color: white;position: relative;}#sk-container-id-5 div.sk-item::before, #sk-container-id-5 div.sk-parallel-item::before {content: \"\";position: absolute;border-left: 1px solid gray;box-sizing: border-box;top: 0;bottom: 0;left: 50%;z-index: -1;}#sk-container-id-5 div.sk-parallel-item {display: flex;flex-direction: column;z-index: 1;position: relative;background-color: white;}#sk-container-id-5 div.sk-parallel-item:first-child::after {align-self: flex-end;width: 50%;}#sk-container-id-5 div.sk-parallel-item:last-child::after {align-self: flex-start;width: 50%;}#sk-container-id-5 div.sk-parallel-item:only-child::after {width: 0;}#sk-container-id-5 div.sk-dashed-wrapped {border: 1px dashed gray;margin: 0 0.4em 0.5em 0.4em;box-sizing: border-box;padding-bottom: 0.4em;background-color: white;}#sk-container-id-5 div.sk-label label {font-family: monospace;font-weight: bold;display: inline-block;line-height: 1.2em;}#sk-container-id-5 div.sk-label-container {text-align: center;}#sk-container-id-5 div.sk-container {/* jupyter's `normalize.less` sets `[hidden] { display: none; }` but bootstrap.min.css set `[hidden] { display: none !important; }` so we also need the `!important` here to be able to override the default hidden behavior on the sphinx rendered scikit-learn.org. See: https://github.com/scikit-learn/scikit-learn/issues/21755 */display: inline-block !important;position: relative;}#sk-container-id-5 div.sk-text-repr-fallback {display: none;}</style><div id=\"sk-container-id-5\" class=\"sk-top-container\"><div class=\"sk-text-repr-fallback\"><pre>DecisionTreeClassifier(criterion=&#x27;entropy&#x27;, random_state=0)</pre><b>In a Jupyter environment, please rerun this cell to show the HTML representation or trust the notebook. <br />On GitHub, the HTML representation is unable to render, please try loading this page with nbviewer.org.</b></div><div class=\"sk-container\" hidden><div class=\"sk-item\"><div class=\"sk-estimator sk-toggleable\"><input class=\"sk-toggleable__control sk-hidden--visually\" id=\"sk-estimator-id-5\" type=\"checkbox\" checked><label for=\"sk-estimator-id-5\" class=\"sk-toggleable__label sk-toggleable__label-arrow\">DecisionTreeClassifier</label><div class=\"sk-toggleable__content\"><pre>DecisionTreeClassifier(criterion=&#x27;entropy&#x27;, random_state=0)</pre></div></div></div></div></div>"
      ],
      "text/plain": [
       "DecisionTreeClassifier(criterion='entropy', random_state=0)"
      ]
     },
     "execution_count": 35,
     "metadata": {},
     "output_type": "execute_result"
    }
   ],
   "source": [
    "from sklearn.tree import DecisionTreeClassifier\n",
    "DT_model = DecisionTreeClassifier(criterion='entropy', random_state=0)\n",
    "DT_model.fit(x_train, y_train)"
   ]
  },
  {
   "cell_type": "code",
   "execution_count": 36,
   "id": "b4bd5744",
   "metadata": {},
   "outputs": [],
   "source": [
    "y_pred = DT_model.predict(x_test)"
   ]
  },
  {
   "cell_type": "code",
   "execution_count": 37,
   "id": "29c058f2",
   "metadata": {},
   "outputs": [],
   "source": [
    "acc_DT = accuracy_score(y_test, y_pred)"
   ]
  },
  {
   "cell_type": "code",
   "execution_count": 38,
   "id": "76d086ff",
   "metadata": {},
   "outputs": [
    {
     "name": "stdout",
     "output_type": "stream",
     "text": [
      "1.0\n"
     ]
    }
   ],
   "source": [
    "print(acc_DT)"
   ]
  },
  {
   "cell_type": "code",
   "execution_count": 39,
   "id": "0dd50027",
   "metadata": {},
   "outputs": [
    {
     "data": {
      "text/html": [
       "<style>#sk-container-id-6 {color: black;}#sk-container-id-6 pre{padding: 0;}#sk-container-id-6 div.sk-toggleable {background-color: white;}#sk-container-id-6 label.sk-toggleable__label {cursor: pointer;display: block;width: 100%;margin-bottom: 0;padding: 0.3em;box-sizing: border-box;text-align: center;}#sk-container-id-6 label.sk-toggleable__label-arrow:before {content: \"▸\";float: left;margin-right: 0.25em;color: #696969;}#sk-container-id-6 label.sk-toggleable__label-arrow:hover:before {color: black;}#sk-container-id-6 div.sk-estimator:hover label.sk-toggleable__label-arrow:before {color: black;}#sk-container-id-6 div.sk-toggleable__content {max-height: 0;max-width: 0;overflow: hidden;text-align: left;background-color: #f0f8ff;}#sk-container-id-6 div.sk-toggleable__content pre {margin: 0.2em;color: black;border-radius: 0.25em;background-color: #f0f8ff;}#sk-container-id-6 input.sk-toggleable__control:checked~div.sk-toggleable__content {max-height: 200px;max-width: 100%;overflow: auto;}#sk-container-id-6 input.sk-toggleable__control:checked~label.sk-toggleable__label-arrow:before {content: \"▾\";}#sk-container-id-6 div.sk-estimator input.sk-toggleable__control:checked~label.sk-toggleable__label {background-color: #d4ebff;}#sk-container-id-6 div.sk-label input.sk-toggleable__control:checked~label.sk-toggleable__label {background-color: #d4ebff;}#sk-container-id-6 input.sk-hidden--visually {border: 0;clip: rect(1px 1px 1px 1px);clip: rect(1px, 1px, 1px, 1px);height: 1px;margin: -1px;overflow: hidden;padding: 0;position: absolute;width: 1px;}#sk-container-id-6 div.sk-estimator {font-family: monospace;background-color: #f0f8ff;border: 1px dotted black;border-radius: 0.25em;box-sizing: border-box;margin-bottom: 0.5em;}#sk-container-id-6 div.sk-estimator:hover {background-color: #d4ebff;}#sk-container-id-6 div.sk-parallel-item::after {content: \"\";width: 100%;border-bottom: 1px solid gray;flex-grow: 1;}#sk-container-id-6 div.sk-label:hover label.sk-toggleable__label {background-color: #d4ebff;}#sk-container-id-6 div.sk-serial::before {content: \"\";position: absolute;border-left: 1px solid gray;box-sizing: border-box;top: 0;bottom: 0;left: 50%;z-index: 0;}#sk-container-id-6 div.sk-serial {display: flex;flex-direction: column;align-items: center;background-color: white;padding-right: 0.2em;padding-left: 0.2em;position: relative;}#sk-container-id-6 div.sk-item {position: relative;z-index: 1;}#sk-container-id-6 div.sk-parallel {display: flex;align-items: stretch;justify-content: center;background-color: white;position: relative;}#sk-container-id-6 div.sk-item::before, #sk-container-id-6 div.sk-parallel-item::before {content: \"\";position: absolute;border-left: 1px solid gray;box-sizing: border-box;top: 0;bottom: 0;left: 50%;z-index: -1;}#sk-container-id-6 div.sk-parallel-item {display: flex;flex-direction: column;z-index: 1;position: relative;background-color: white;}#sk-container-id-6 div.sk-parallel-item:first-child::after {align-self: flex-end;width: 50%;}#sk-container-id-6 div.sk-parallel-item:last-child::after {align-self: flex-start;width: 50%;}#sk-container-id-6 div.sk-parallel-item:only-child::after {width: 0;}#sk-container-id-6 div.sk-dashed-wrapped {border: 1px dashed gray;margin: 0 0.4em 0.5em 0.4em;box-sizing: border-box;padding-bottom: 0.4em;background-color: white;}#sk-container-id-6 div.sk-label label {font-family: monospace;font-weight: bold;display: inline-block;line-height: 1.2em;}#sk-container-id-6 div.sk-label-container {text-align: center;}#sk-container-id-6 div.sk-container {/* jupyter's `normalize.less` sets `[hidden] { display: none; }` but bootstrap.min.css set `[hidden] { display: none !important; }` so we also need the `!important` here to be able to override the default hidden behavior on the sphinx rendered scikit-learn.org. See: https://github.com/scikit-learn/scikit-learn/issues/21755 */display: inline-block !important;position: relative;}#sk-container-id-6 div.sk-text-repr-fallback {display: none;}</style><div id=\"sk-container-id-6\" class=\"sk-top-container\"><div class=\"sk-text-repr-fallback\"><pre>RandomForestClassifier()</pre><b>In a Jupyter environment, please rerun this cell to show the HTML representation or trust the notebook. <br />On GitHub, the HTML representation is unable to render, please try loading this page with nbviewer.org.</b></div><div class=\"sk-container\" hidden><div class=\"sk-item\"><div class=\"sk-estimator sk-toggleable\"><input class=\"sk-toggleable__control sk-hidden--visually\" id=\"sk-estimator-id-6\" type=\"checkbox\" checked><label for=\"sk-estimator-id-6\" class=\"sk-toggleable__label sk-toggleable__label-arrow\">RandomForestClassifier</label><div class=\"sk-toggleable__content\"><pre>RandomForestClassifier()</pre></div></div></div></div></div>"
      ],
      "text/plain": [
       "RandomForestClassifier()"
      ]
     },
     "execution_count": 39,
     "metadata": {},
     "output_type": "execute_result"
    }
   ],
   "source": [
    "from sklearn.ensemble import RandomForestClassifier\n",
    "RF_model = RandomForestClassifier()\n",
    "RF_model.fit(x_train, y_train)"
   ]
  },
  {
   "cell_type": "code",
   "execution_count": 40,
   "id": "962a081d",
   "metadata": {},
   "outputs": [],
   "source": [
    "y_pred = RF_model.predict(x_test)"
   ]
  },
  {
   "cell_type": "code",
   "execution_count": 41,
   "id": "41b94f72",
   "metadata": {},
   "outputs": [],
   "source": [
    "acc_RF = accuracy_score(y_test, y_pred)"
   ]
  },
  {
   "cell_type": "code",
   "execution_count": 42,
   "id": "ed793b5e",
   "metadata": {},
   "outputs": [
    {
     "name": "stdout",
     "output_type": "stream",
     "text": [
      "1.0\n"
     ]
    }
   ],
   "source": [
    "print(acc_RF)"
   ]
  },
  {
   "cell_type": "code",
   "execution_count": 43,
   "id": "414d941d",
   "metadata": {},
   "outputs": [],
   "source": [
    "import tensorflow as tf\n",
    "from tensorflow.keras import layers, models"
   ]
  },
  {
   "cell_type": "code",
   "execution_count": 44,
   "id": "f43544b8",
   "metadata": {},
   "outputs": [],
   "source": [
    "CNN_model = tf.keras.models.Sequential()"
   ]
  },
  {
   "cell_type": "code",
   "execution_count": 45,
   "id": "e8b86029",
   "metadata": {},
   "outputs": [],
   "source": [
    "CNN_model.add(tf.keras.layers.Dense(64, input_dim = 10, activation ='relu'))\n",
    "CNN_model.add(tf.keras.layers.Dense(128, activation ='relu'))\n",
    "CNN_model.add(tf.keras.layers.Dense(1, activation ='sigmoid'))"
   ]
  },
  {
   "cell_type": "code",
   "execution_count": 46,
   "id": "806b2f6f",
   "metadata": {},
   "outputs": [],
   "source": [
    "CNN_model = models.Sequential([\n",
    "    layers.Input(shape=(8,)),])\n",
    "CNN_model.compile(optimizer='adam', loss='binary_crossentropy', metrics=['accuracy'])"
   ]
  },
  {
   "cell_type": "code",
   "execution_count": 47,
   "id": "0794229b",
   "metadata": {},
   "outputs": [
    {
     "name": "stdout",
     "output_type": "stream",
     "text": [
      "Epoch 1/200\n",
      "27/27 [==============================] - 0s 428us/step - loss: 5.2878 - accuracy: 0.1294\n",
      "Epoch 2/200\n",
      "27/27 [==============================] - 0s 371us/step - loss: 5.2878 - accuracy: 0.1294\n",
      "Epoch 3/200\n",
      "27/27 [==============================] - 0s 375us/step - loss: 5.2878 - accuracy: 0.1294\n",
      "Epoch 4/200\n",
      "27/27 [==============================] - 0s 341us/step - loss: 5.2878 - accuracy: 0.1294\n",
      "Epoch 5/200\n",
      "27/27 [==============================] - 0s 331us/step - loss: 5.2879 - accuracy: 0.1294\n",
      "Epoch 6/200\n",
      "27/27 [==============================] - 0s 339us/step - loss: 5.2879 - accuracy: 0.1294\n",
      "Epoch 7/200\n",
      "27/27 [==============================] - 0s 325us/step - loss: 5.2878 - accuracy: 0.1294\n",
      "Epoch 8/200\n",
      "27/27 [==============================] - 0s 365us/step - loss: 5.2879 - accuracy: 0.1294\n",
      "Epoch 9/200\n",
      "27/27 [==============================] - 0s 332us/step - loss: 5.2878 - accuracy: 0.1294\n",
      "Epoch 10/200\n",
      "27/27 [==============================] - 0s 335us/step - loss: 5.2879 - accuracy: 0.1294\n",
      "Epoch 11/200\n",
      "27/27 [==============================] - 0s 356us/step - loss: 5.2878 - accuracy: 0.1294\n",
      "Epoch 12/200\n"
     ]
    },
    {
     "name": "stderr",
     "output_type": "stream",
     "text": [
      "2023-09-05 17:27:49.390332: W tensorflow/tsl/platform/profile_utils/cpu_utils.cc:128] Failed to get CPU frequency: 0 Hz\n"
     ]
    },
    {
     "name": "stdout",
     "output_type": "stream",
     "text": [
      "27/27 [==============================] - 0s 442us/step - loss: 5.2878 - accuracy: 0.1294\n",
      "Epoch 13/200\n",
      "27/27 [==============================] - 0s 376us/step - loss: 5.2878 - accuracy: 0.1294\n",
      "Epoch 14/200\n",
      "27/27 [==============================] - 0s 352us/step - loss: 5.2878 - accuracy: 0.1294\n",
      "Epoch 15/200\n",
      "27/27 [==============================] - 0s 358us/step - loss: 5.2878 - accuracy: 0.1294\n",
      "Epoch 16/200\n",
      "27/27 [==============================] - 0s 341us/step - loss: 5.2879 - accuracy: 0.1294\n",
      "Epoch 17/200\n",
      "27/27 [==============================] - 0s 363us/step - loss: 5.2878 - accuracy: 0.1294\n",
      "Epoch 18/200\n",
      "27/27 [==============================] - 0s 363us/step - loss: 5.2879 - accuracy: 0.1294\n",
      "Epoch 19/200\n",
      "27/27 [==============================] - 0s 344us/step - loss: 5.2878 - accuracy: 0.1294\n",
      "Epoch 20/200\n",
      "27/27 [==============================] - 0s 357us/step - loss: 5.2878 - accuracy: 0.1294\n",
      "Epoch 21/200\n",
      "27/27 [==============================] - 0s 345us/step - loss: 5.2879 - accuracy: 0.1294\n",
      "Epoch 22/200\n",
      "27/27 [==============================] - 0s 345us/step - loss: 5.2879 - accuracy: 0.1294\n",
      "Epoch 23/200\n",
      "27/27 [==============================] - 0s 350us/step - loss: 5.2878 - accuracy: 0.1294\n",
      "Epoch 24/200\n",
      "27/27 [==============================] - 0s 326us/step - loss: 5.2878 - accuracy: 0.1294\n",
      "Epoch 25/200\n",
      "27/27 [==============================] - 0s 343us/step - loss: 5.2878 - accuracy: 0.1294\n",
      "Epoch 26/200\n",
      "27/27 [==============================] - 0s 333us/step - loss: 5.2878 - accuracy: 0.1294\n",
      "Epoch 27/200\n",
      "27/27 [==============================] - 0s 346us/step - loss: 5.2879 - accuracy: 0.1294\n",
      "Epoch 28/200\n",
      "27/27 [==============================] - 0s 336us/step - loss: 5.2879 - accuracy: 0.1294\n",
      "Epoch 29/200\n",
      "27/27 [==============================] - 0s 339us/step - loss: 5.2878 - accuracy: 0.1294\n",
      "Epoch 30/200\n",
      "27/27 [==============================] - 0s 336us/step - loss: 5.2878 - accuracy: 0.1294\n",
      "Epoch 31/200\n",
      "27/27 [==============================] - 0s 347us/step - loss: 5.2878 - accuracy: 0.1294\n",
      "Epoch 32/200\n",
      "27/27 [==============================] - 0s 306us/step - loss: 5.2879 - accuracy: 0.1294\n",
      "Epoch 33/200\n",
      "27/27 [==============================] - 0s 354us/step - loss: 5.2878 - accuracy: 0.1294\n",
      "Epoch 34/200\n",
      "27/27 [==============================] - 0s 325us/step - loss: 5.2879 - accuracy: 0.1294\n",
      "Epoch 35/200\n",
      "27/27 [==============================] - 0s 332us/step - loss: 5.2879 - accuracy: 0.1294\n",
      "Epoch 36/200\n",
      "27/27 [==============================] - 0s 342us/step - loss: 5.2878 - accuracy: 0.1294\n",
      "Epoch 37/200\n",
      "27/27 [==============================] - 0s 327us/step - loss: 5.2878 - accuracy: 0.1294\n",
      "Epoch 38/200\n",
      "27/27 [==============================] - 0s 351us/step - loss: 5.2878 - accuracy: 0.1294\n",
      "Epoch 39/200\n",
      "27/27 [==============================] - 0s 332us/step - loss: 5.2878 - accuracy: 0.1294\n",
      "Epoch 40/200\n",
      "27/27 [==============================] - 0s 340us/step - loss: 5.2879 - accuracy: 0.1294\n",
      "Epoch 41/200\n",
      "27/27 [==============================] - 0s 348us/step - loss: 5.2879 - accuracy: 0.1294\n",
      "Epoch 42/200\n",
      "27/27 [==============================] - 0s 320us/step - loss: 5.2879 - accuracy: 0.1294\n",
      "Epoch 43/200\n",
      "27/27 [==============================] - 0s 346us/step - loss: 5.2878 - accuracy: 0.1294\n",
      "Epoch 44/200\n",
      "27/27 [==============================] - 0s 328us/step - loss: 5.2878 - accuracy: 0.1294\n",
      "Epoch 45/200\n",
      "27/27 [==============================] - 0s 351us/step - loss: 5.2878 - accuracy: 0.1294\n",
      "Epoch 46/200\n",
      "27/27 [==============================] - 0s 366us/step - loss: 5.2878 - accuracy: 0.1294\n",
      "Epoch 47/200\n",
      "27/27 [==============================] - 0s 330us/step - loss: 5.2878 - accuracy: 0.1294\n",
      "Epoch 48/200\n",
      "27/27 [==============================] - 0s 336us/step - loss: 5.2879 - accuracy: 0.1294\n",
      "Epoch 49/200\n",
      "27/27 [==============================] - 0s 359us/step - loss: 5.2879 - accuracy: 0.1294\n",
      "Epoch 50/200\n",
      "27/27 [==============================] - 0s 326us/step - loss: 5.2879 - accuracy: 0.1294\n",
      "Epoch 51/200\n",
      "27/27 [==============================] - 0s 340us/step - loss: 5.2878 - accuracy: 0.1294\n",
      "Epoch 52/200\n",
      "27/27 [==============================] - 0s 350us/step - loss: 5.2878 - accuracy: 0.1294\n",
      "Epoch 53/200\n",
      "27/27 [==============================] - 0s 380us/step - loss: 5.2879 - accuracy: 0.1294\n",
      "Epoch 54/200\n",
      "27/27 [==============================] - 0s 341us/step - loss: 5.2879 - accuracy: 0.1294\n",
      "Epoch 55/200\n",
      "27/27 [==============================] - 0s 324us/step - loss: 5.2878 - accuracy: 0.1294\n",
      "Epoch 56/200\n",
      "27/27 [==============================] - 0s 321us/step - loss: 5.2879 - accuracy: 0.1294\n",
      "Epoch 57/200\n",
      "27/27 [==============================] - 0s 352us/step - loss: 5.2879 - accuracy: 0.1294\n",
      "Epoch 58/200\n",
      "27/27 [==============================] - 0s 321us/step - loss: 5.2879 - accuracy: 0.1294\n",
      "Epoch 59/200\n",
      "27/27 [==============================] - 0s 321us/step - loss: 5.2879 - accuracy: 0.1294\n",
      "Epoch 60/200\n",
      "27/27 [==============================] - 0s 346us/step - loss: 5.2878 - accuracy: 0.1294\n",
      "Epoch 61/200\n",
      "27/27 [==============================] - 0s 323us/step - loss: 5.2878 - accuracy: 0.1294\n",
      "Epoch 62/200\n",
      "27/27 [==============================] - 0s 324us/step - loss: 5.2878 - accuracy: 0.1294\n",
      "Epoch 63/200\n",
      "27/27 [==============================] - 0s 346us/step - loss: 5.2879 - accuracy: 0.1294\n",
      "Epoch 64/200\n",
      "27/27 [==============================] - 0s 329us/step - loss: 5.2879 - accuracy: 0.1294\n",
      "Epoch 65/200\n",
      "27/27 [==============================] - 0s 345us/step - loss: 5.2879 - accuracy: 0.1294\n",
      "Epoch 66/200\n",
      "27/27 [==============================] - 0s 327us/step - loss: 5.2879 - accuracy: 0.1294\n",
      "Epoch 67/200\n",
      "27/27 [==============================] - 0s 327us/step - loss: 5.2878 - accuracy: 0.1294\n",
      "Epoch 68/200\n",
      "27/27 [==============================] - 0s 323us/step - loss: 5.2879 - accuracy: 0.1294\n",
      "Epoch 69/200\n",
      "27/27 [==============================] - 0s 318us/step - loss: 5.2878 - accuracy: 0.1294\n",
      "Epoch 70/200\n",
      "27/27 [==============================] - 0s 350us/step - loss: 5.2878 - accuracy: 0.1294\n",
      "Epoch 71/200\n",
      "27/27 [==============================] - 0s 322us/step - loss: 5.2879 - accuracy: 0.1294\n",
      "Epoch 72/200\n",
      "27/27 [==============================] - 0s 339us/step - loss: 5.2878 - accuracy: 0.1294\n",
      "Epoch 73/200\n",
      "27/27 [==============================] - 0s 316us/step - loss: 5.2878 - accuracy: 0.1294\n",
      "Epoch 74/200\n",
      "27/27 [==============================] - 0s 322us/step - loss: 5.2878 - accuracy: 0.1294\n",
      "Epoch 75/200\n",
      "27/27 [==============================] - 0s 339us/step - loss: 5.2879 - accuracy: 0.1294\n",
      "Epoch 76/200\n",
      "27/27 [==============================] - 0s 329us/step - loss: 5.2879 - accuracy: 0.1294\n",
      "Epoch 77/200\n",
      "27/27 [==============================] - 0s 326us/step - loss: 5.2879 - accuracy: 0.1294\n",
      "Epoch 78/200\n",
      "27/27 [==============================] - 0s 339us/step - loss: 5.2878 - accuracy: 0.1294\n",
      "Epoch 79/200\n",
      "27/27 [==============================] - 0s 329us/step - loss: 5.2879 - accuracy: 0.1294\n",
      "Epoch 80/200\n",
      "27/27 [==============================] - 0s 345us/step - loss: 5.2878 - accuracy: 0.1294\n",
      "Epoch 81/200\n",
      "27/27 [==============================] - 0s 329us/step - loss: 5.2878 - accuracy: 0.1294\n",
      "Epoch 82/200\n",
      "27/27 [==============================] - 0s 321us/step - loss: 5.2878 - accuracy: 0.1294\n",
      "Epoch 83/200\n",
      "27/27 [==============================] - 0s 325us/step - loss: 5.2878 - accuracy: 0.1294\n",
      "Epoch 84/200\n",
      "27/27 [==============================] - 0s 316us/step - loss: 5.2879 - accuracy: 0.1294\n",
      "Epoch 85/200\n",
      "27/27 [==============================] - 0s 327us/step - loss: 5.2878 - accuracy: 0.1294\n",
      "Epoch 86/200\n",
      "27/27 [==============================] - 0s 324us/step - loss: 5.2879 - accuracy: 0.1294\n",
      "Epoch 87/200\n",
      "27/27 [==============================] - 0s 340us/step - loss: 5.2879 - accuracy: 0.1294\n",
      "Epoch 88/200\n",
      "27/27 [==============================] - 0s 342us/step - loss: 5.2878 - accuracy: 0.1294\n",
      "Epoch 89/200\n",
      "27/27 [==============================] - 0s 320us/step - loss: 5.2879 - accuracy: 0.1294\n",
      "Epoch 90/200\n",
      "27/27 [==============================] - 0s 326us/step - loss: 5.2879 - accuracy: 0.1294\n",
      "Epoch 91/200\n",
      "27/27 [==============================] - 0s 327us/step - loss: 5.2878 - accuracy: 0.1294\n",
      "Epoch 92/200\n"
     ]
    },
    {
     "name": "stdout",
     "output_type": "stream",
     "text": [
      "27/27 [==============================] - 0s 326us/step - loss: 5.2878 - accuracy: 0.1294\n",
      "Epoch 93/200\n",
      "27/27 [==============================] - 0s 345us/step - loss: 5.2879 - accuracy: 0.1294\n",
      "Epoch 94/200\n",
      "27/27 [==============================] - 0s 357us/step - loss: 5.2879 - accuracy: 0.1294\n",
      "Epoch 95/200\n",
      "27/27 [==============================] - 0s 309us/step - loss: 5.2878 - accuracy: 0.1294\n",
      "Epoch 96/200\n",
      "27/27 [==============================] - 0s 342us/step - loss: 5.2878 - accuracy: 0.1294\n",
      "Epoch 97/200\n",
      "27/27 [==============================] - 0s 315us/step - loss: 5.2879 - accuracy: 0.1294\n",
      "Epoch 98/200\n",
      "27/27 [==============================] - 0s 335us/step - loss: 5.2879 - accuracy: 0.1294\n",
      "Epoch 99/200\n",
      "27/27 [==============================] - 0s 321us/step - loss: 5.2878 - accuracy: 0.1294\n",
      "Epoch 100/200\n",
      "27/27 [==============================] - 0s 327us/step - loss: 5.2878 - accuracy: 0.1294\n",
      "Epoch 101/200\n",
      "27/27 [==============================] - 0s 326us/step - loss: 5.2879 - accuracy: 0.1294\n",
      "Epoch 102/200\n",
      "27/27 [==============================] - 0s 313us/step - loss: 5.2879 - accuracy: 0.1294\n",
      "Epoch 103/200\n",
      "27/27 [==============================] - 0s 338us/step - loss: 5.2878 - accuracy: 0.1294\n",
      "Epoch 104/200\n",
      "27/27 [==============================] - 0s 326us/step - loss: 5.2879 - accuracy: 0.1294\n",
      "Epoch 105/200\n",
      "27/27 [==============================] - 0s 328us/step - loss: 5.2878 - accuracy: 0.1294\n",
      "Epoch 106/200\n",
      "27/27 [==============================] - 0s 331us/step - loss: 5.2879 - accuracy: 0.1294\n",
      "Epoch 107/200\n",
      "27/27 [==============================] - 0s 330us/step - loss: 5.2879 - accuracy: 0.1294\n",
      "Epoch 108/200\n",
      "27/27 [==============================] - 0s 327us/step - loss: 5.2878 - accuracy: 0.1294\n",
      "Epoch 109/200\n",
      "27/27 [==============================] - 0s 316us/step - loss: 5.2879 - accuracy: 0.1294\n",
      "Epoch 110/200\n",
      "27/27 [==============================] - 0s 321us/step - loss: 5.2878 - accuracy: 0.1294\n",
      "Epoch 111/200\n",
      "27/27 [==============================] - 0s 343us/step - loss: 5.2878 - accuracy: 0.1294\n",
      "Epoch 112/200\n",
      "27/27 [==============================] - 0s 322us/step - loss: 5.2879 - accuracy: 0.1294\n",
      "Epoch 113/200\n",
      "27/27 [==============================] - 0s 325us/step - loss: 5.2879 - accuracy: 0.1294\n",
      "Epoch 114/200\n",
      "27/27 [==============================] - 0s 318us/step - loss: 5.2879 - accuracy: 0.1294\n",
      "Epoch 115/200\n",
      "27/27 [==============================] - 0s 324us/step - loss: 5.2878 - accuracy: 0.1294\n",
      "Epoch 116/200\n",
      "27/27 [==============================] - 0s 327us/step - loss: 5.2879 - accuracy: 0.1294\n",
      "Epoch 117/200\n",
      "27/27 [==============================] - 0s 329us/step - loss: 5.2878 - accuracy: 0.1294\n",
      "Epoch 118/200\n",
      "27/27 [==============================] - 0s 329us/step - loss: 5.2878 - accuracy: 0.1294\n",
      "Epoch 119/200\n",
      "27/27 [==============================] - 0s 327us/step - loss: 5.2879 - accuracy: 0.1294\n",
      "Epoch 120/200\n",
      "27/27 [==============================] - 0s 336us/step - loss: 5.2878 - accuracy: 0.1294\n",
      "Epoch 121/200\n",
      "27/27 [==============================] - 0s 334us/step - loss: 5.2879 - accuracy: 0.1294\n",
      "Epoch 122/200\n",
      "27/27 [==============================] - 0s 322us/step - loss: 5.2879 - accuracy: 0.1294\n",
      "Epoch 123/200\n",
      "27/27 [==============================] - 0s 327us/step - loss: 5.2879 - accuracy: 0.1294\n",
      "Epoch 124/200\n",
      "27/27 [==============================] - 0s 318us/step - loss: 5.2878 - accuracy: 0.1294\n",
      "Epoch 125/200\n",
      "27/27 [==============================] - 0s 335us/step - loss: 5.2879 - accuracy: 0.1294\n",
      "Epoch 126/200\n",
      "27/27 [==============================] - 0s 330us/step - loss: 5.2879 - accuracy: 0.1294\n",
      "Epoch 127/200\n",
      "27/27 [==============================] - 0s 343us/step - loss: 5.2879 - accuracy: 0.1294\n",
      "Epoch 128/200\n",
      "27/27 [==============================] - 0s 336us/step - loss: 5.2878 - accuracy: 0.1294\n",
      "Epoch 129/200\n",
      "27/27 [==============================] - 0s 320us/step - loss: 5.2879 - accuracy: 0.1294\n",
      "Epoch 130/200\n",
      "27/27 [==============================] - 0s 333us/step - loss: 5.2879 - accuracy: 0.1294\n",
      "Epoch 131/200\n",
      "27/27 [==============================] - 0s 342us/step - loss: 5.2879 - accuracy: 0.1294\n",
      "Epoch 132/200\n",
      "27/27 [==============================] - 0s 329us/step - loss: 5.2879 - accuracy: 0.1294\n",
      "Epoch 133/200\n",
      "27/27 [==============================] - 0s 331us/step - loss: 5.2879 - accuracy: 0.1294\n",
      "Epoch 134/200\n",
      "27/27 [==============================] - 0s 326us/step - loss: 5.2878 - accuracy: 0.1294\n",
      "Epoch 135/200\n",
      "27/27 [==============================] - 0s 332us/step - loss: 5.2879 - accuracy: 0.1294\n",
      "Epoch 136/200\n",
      "27/27 [==============================] - 0s 318us/step - loss: 5.2879 - accuracy: 0.1294\n",
      "Epoch 137/200\n",
      "27/27 [==============================] - 0s 317us/step - loss: 5.2879 - accuracy: 0.1294\n",
      "Epoch 138/200\n",
      "27/27 [==============================] - 0s 329us/step - loss: 5.2878 - accuracy: 0.1294\n",
      "Epoch 139/200\n",
      "27/27 [==============================] - 0s 320us/step - loss: 5.2879 - accuracy: 0.1294\n",
      "Epoch 140/200\n",
      "27/27 [==============================] - 0s 323us/step - loss: 5.2878 - accuracy: 0.1294\n",
      "Epoch 141/200\n",
      "27/27 [==============================] - 0s 318us/step - loss: 5.2878 - accuracy: 0.1294\n",
      "Epoch 142/200\n",
      "27/27 [==============================] - 0s 326us/step - loss: 5.2878 - accuracy: 0.1294\n",
      "Epoch 143/200\n",
      "27/27 [==============================] - 0s 337us/step - loss: 5.2878 - accuracy: 0.1294\n",
      "Epoch 144/200\n",
      "27/27 [==============================] - 0s 330us/step - loss: 5.2879 - accuracy: 0.1294\n",
      "Epoch 145/200\n",
      "27/27 [==============================] - 0s 323us/step - loss: 5.2878 - accuracy: 0.1294\n",
      "Epoch 146/200\n",
      "27/27 [==============================] - 0s 316us/step - loss: 5.2879 - accuracy: 0.1294\n",
      "Epoch 147/200\n",
      "27/27 [==============================] - 0s 337us/step - loss: 5.2879 - accuracy: 0.1294\n",
      "Epoch 148/200\n",
      "27/27 [==============================] - 0s 329us/step - loss: 5.2878 - accuracy: 0.1294\n",
      "Epoch 149/200\n",
      "27/27 [==============================] - 0s 328us/step - loss: 5.2878 - accuracy: 0.1294\n",
      "Epoch 150/200\n",
      "27/27 [==============================] - 0s 344us/step - loss: 5.2878 - accuracy: 0.1294\n",
      "Epoch 151/200\n",
      "27/27 [==============================] - 0s 322us/step - loss: 5.2878 - accuracy: 0.1294\n",
      "Epoch 152/200\n",
      "27/27 [==============================] - 0s 327us/step - loss: 5.2878 - accuracy: 0.1294\n",
      "Epoch 153/200\n",
      "27/27 [==============================] - 0s 311us/step - loss: 5.2878 - accuracy: 0.1294\n",
      "Epoch 154/200\n",
      "27/27 [==============================] - 0s 320us/step - loss: 5.2879 - accuracy: 0.1294\n",
      "Epoch 155/200\n",
      "27/27 [==============================] - 0s 320us/step - loss: 5.2879 - accuracy: 0.1294\n",
      "Epoch 156/200\n",
      "27/27 [==============================] - 0s 328us/step - loss: 5.2879 - accuracy: 0.1294\n",
      "Epoch 157/200\n",
      "27/27 [==============================] - 0s 331us/step - loss: 5.2878 - accuracy: 0.1294\n",
      "Epoch 158/200\n",
      "27/27 [==============================] - 0s 323us/step - loss: 5.2879 - accuracy: 0.1294\n",
      "Epoch 159/200\n",
      "27/27 [==============================] - 0s 327us/step - loss: 5.2878 - accuracy: 0.1294\n",
      "Epoch 160/200\n",
      "27/27 [==============================] - 0s 337us/step - loss: 5.2879 - accuracy: 0.1294\n",
      "Epoch 161/200\n",
      "27/27 [==============================] - 0s 326us/step - loss: 5.2879 - accuracy: 0.1294\n",
      "Epoch 162/200\n",
      "27/27 [==============================] - 0s 334us/step - loss: 5.2879 - accuracy: 0.1294\n",
      "Epoch 163/200\n",
      "27/27 [==============================] - 0s 320us/step - loss: 5.2878 - accuracy: 0.1294\n",
      "Epoch 164/200\n",
      "27/27 [==============================] - 0s 330us/step - loss: 5.2879 - accuracy: 0.1294\n",
      "Epoch 165/200\n",
      "27/27 [==============================] - 0s 331us/step - loss: 5.2879 - accuracy: 0.1294\n",
      "Epoch 166/200\n",
      "27/27 [==============================] - 0s 324us/step - loss: 5.2878 - accuracy: 0.1294\n",
      "Epoch 167/200\n",
      "27/27 [==============================] - 0s 330us/step - loss: 5.2879 - accuracy: 0.1294\n",
      "Epoch 168/200\n",
      "27/27 [==============================] - 0s 319us/step - loss: 5.2878 - accuracy: 0.1294\n",
      "Epoch 169/200\n",
      "27/27 [==============================] - 0s 333us/step - loss: 5.2879 - accuracy: 0.1294\n",
      "Epoch 170/200\n",
      "27/27 [==============================] - 0s 321us/step - loss: 5.2879 - accuracy: 0.1294\n",
      "Epoch 171/200\n"
     ]
    },
    {
     "name": "stdout",
     "output_type": "stream",
     "text": [
      "27/27 [==============================] - 0s 320us/step - loss: 5.2878 - accuracy: 0.1294\n",
      "Epoch 172/200\n",
      "27/27 [==============================] - 0s 327us/step - loss: 5.2878 - accuracy: 0.1294\n",
      "Epoch 173/200\n",
      "27/27 [==============================] - 0s 334us/step - loss: 5.2879 - accuracy: 0.1294\n",
      "Epoch 174/200\n",
      "27/27 [==============================] - 0s 321us/step - loss: 5.2879 - accuracy: 0.1294\n",
      "Epoch 175/200\n",
      "27/27 [==============================] - 0s 348us/step - loss: 5.2879 - accuracy: 0.1294\n",
      "Epoch 176/200\n",
      "27/27 [==============================] - 0s 333us/step - loss: 5.2879 - accuracy: 0.1294\n",
      "Epoch 177/200\n",
      "27/27 [==============================] - 0s 354us/step - loss: 5.2879 - accuracy: 0.1294\n",
      "Epoch 178/200\n",
      "27/27 [==============================] - 0s 320us/step - loss: 5.2879 - accuracy: 0.1294\n",
      "Epoch 179/200\n",
      "27/27 [==============================] - 0s 339us/step - loss: 5.2879 - accuracy: 0.1294\n",
      "Epoch 180/200\n",
      "27/27 [==============================] - 0s 350us/step - loss: 5.2879 - accuracy: 0.1294\n",
      "Epoch 181/200\n",
      "27/27 [==============================] - 0s 335us/step - loss: 5.2879 - accuracy: 0.1294\n",
      "Epoch 182/200\n",
      "27/27 [==============================] - 0s 339us/step - loss: 5.2878 - accuracy: 0.1294\n",
      "Epoch 183/200\n",
      "27/27 [==============================] - 0s 366us/step - loss: 5.2878 - accuracy: 0.1294\n",
      "Epoch 184/200\n",
      "27/27 [==============================] - 0s 331us/step - loss: 5.2878 - accuracy: 0.1294\n",
      "Epoch 185/200\n",
      "27/27 [==============================] - 0s 352us/step - loss: 5.2878 - accuracy: 0.1294\n",
      "Epoch 186/200\n",
      "27/27 [==============================] - 0s 331us/step - loss: 5.2879 - accuracy: 0.1294\n",
      "Epoch 187/200\n",
      "27/27 [==============================] - 0s 350us/step - loss: 5.2878 - accuracy: 0.1294\n",
      "Epoch 188/200\n",
      "27/27 [==============================] - 0s 357us/step - loss: 5.2879 - accuracy: 0.1294\n",
      "Epoch 189/200\n",
      "27/27 [==============================] - 0s 339us/step - loss: 5.2879 - accuracy: 0.1294\n",
      "Epoch 190/200\n",
      "27/27 [==============================] - 0s 356us/step - loss: 5.2878 - accuracy: 0.1294\n",
      "Epoch 191/200\n",
      "27/27 [==============================] - 0s 352us/step - loss: 5.2879 - accuracy: 0.1294\n",
      "Epoch 192/200\n",
      "27/27 [==============================] - 0s 345us/step - loss: 5.2878 - accuracy: 0.1294\n",
      "Epoch 193/200\n",
      "27/27 [==============================] - 0s 344us/step - loss: 5.2878 - accuracy: 0.1294\n",
      "Epoch 194/200\n",
      "27/27 [==============================] - 0s 333us/step - loss: 5.2878 - accuracy: 0.1294\n",
      "Epoch 195/200\n",
      "27/27 [==============================] - 0s 327us/step - loss: 5.2878 - accuracy: 0.1294\n",
      "Epoch 196/200\n",
      "27/27 [==============================] - 0s 336us/step - loss: 5.2879 - accuracy: 0.1294\n",
      "Epoch 197/200\n",
      "27/27 [==============================] - 0s 333us/step - loss: 5.2878 - accuracy: 0.1294\n",
      "Epoch 198/200\n",
      "27/27 [==============================] - 0s 356us/step - loss: 5.2878 - accuracy: 0.1294\n",
      "Epoch 199/200\n",
      "27/27 [==============================] - 0s 358us/step - loss: 5.2879 - accuracy: 0.1294\n",
      "Epoch 200/200\n",
      "27/27 [==============================] - 0s 332us/step - loss: 5.2879 - accuracy: 0.1294\n"
     ]
    },
    {
     "data": {
      "text/plain": [
       "<keras.callbacks.History at 0x130c34810>"
      ]
     },
     "execution_count": 47,
     "metadata": {},
     "output_type": "execute_result"
    }
   ],
   "source": [
    "CNN_model.fit(x_train, y_train, batch_size = 32, epochs = 200)"
   ]
  },
  {
   "cell_type": "code",
   "execution_count": 48,
   "id": "b5e7ce71",
   "metadata": {},
   "outputs": [],
   "source": [
    " loss, acc_cnn = CNN_model.evaluate(x_train, y_train, verbose = 0)"
   ]
  },
  {
   "cell_type": "code",
   "execution_count": 49,
   "id": "af308ca3",
   "metadata": {},
   "outputs": [
    {
     "name": "stdout",
     "output_type": "stream",
     "text": [
      "0.12941177189350128\n"
     ]
    }
   ],
   "source": [
    "print(acc_cnn)"
   ]
  },
  {
   "cell_type": "code",
   "execution_count": 50,
   "id": "9aba8d3c",
   "metadata": {},
   "outputs": [
    {
     "name": "stdout",
     "output_type": "stream",
     "text": [
      "5/5 [==============================] - 0s 385us/step\n"
     ]
    }
   ],
   "source": [
    "y_pred = CNN_model.predict(x_test)\n",
    "y_pred[y_pred <= 0.5] = 0\n",
    "y_pred[y_pred > 0.5] = 1"
   ]
  },
  {
   "cell_type": "code",
   "execution_count": 51,
   "id": "185c5080",
   "metadata": {},
   "outputs": [],
   "source": [
    "scores = [acc_lr * 100,\n",
    "         acc_knn * 100,\n",
    "         acc_svm * 100,\n",
    "         acc_nb * 100,\n",
    "         acc_DT * 100,\n",
    "         acc_RF * 100,\n",
    "         acc_cnn * 100]"
   ]
  },
  {
   "cell_type": "code",
   "execution_count": 54,
   "id": "867991c2",
   "metadata": {},
   "outputs": [],
   "source": [
    "names = [\"Logistic regression\",\n",
    "        \"K-Nearest Neighbors\",\n",
    "        \"Support Vector Machine\",\n",
    "        \"Naive Bayes\",\n",
    "        \"Decision Tree\",\n",
    "        \"Random Forest\",\n",
    "        \"Convolutional Neural Network\"]"
   ]
  },
  {
   "cell_type": "code",
   "execution_count": 55,
   "id": "d02805a2",
   "metadata": {
    "scrolled": true
   },
   "outputs": [
    {
     "name": "stdout",
     "output_type": "stream",
     "text": [
      "7\n",
      "7\n"
     ]
    }
   ],
   "source": [
    "df = pd.DataFrame()\n",
    "df['Algorithm Name'] = names\n",
    "df['Accuracy score (%)'] = scores\n",
    "df = df.sort_values('Accuracy score (%)', ascending = False)\n",
    "print(len(names))\n",
    "print(len(scores))\n"
   ]
  },
  {
   "cell_type": "code",
   "execution_count": 56,
   "id": "fa328b05",
   "metadata": {},
   "outputs": [
    {
     "data": {
      "text/html": [
       "<div>\n",
       "<style scoped>\n",
       "    .dataframe tbody tr th:only-of-type {\n",
       "        vertical-align: middle;\n",
       "    }\n",
       "\n",
       "    .dataframe tbody tr th {\n",
       "        vertical-align: top;\n",
       "    }\n",
       "\n",
       "    .dataframe thead th {\n",
       "        text-align: right;\n",
       "    }\n",
       "</style>\n",
       "<table border=\"1\" class=\"dataframe\">\n",
       "  <thead>\n",
       "    <tr style=\"text-align: right;\">\n",
       "      <th></th>\n",
       "      <th>Algorithm Name</th>\n",
       "      <th>Accuracy score (%)</th>\n",
       "    </tr>\n",
       "  </thead>\n",
       "  <tbody>\n",
       "    <tr>\n",
       "      <th>0</th>\n",
       "      <td>Logistic regression</td>\n",
       "      <td>100.000000</td>\n",
       "    </tr>\n",
       "    <tr>\n",
       "      <th>1</th>\n",
       "      <td>K-Nearest Neighbors</td>\n",
       "      <td>100.000000</td>\n",
       "    </tr>\n",
       "    <tr>\n",
       "      <th>2</th>\n",
       "      <td>Support Vector Machine</td>\n",
       "      <td>100.000000</td>\n",
       "    </tr>\n",
       "    <tr>\n",
       "      <th>3</th>\n",
       "      <td>Naive Bayes</td>\n",
       "      <td>100.000000</td>\n",
       "    </tr>\n",
       "    <tr>\n",
       "      <th>4</th>\n",
       "      <td>Decision Tree</td>\n",
       "      <td>100.000000</td>\n",
       "    </tr>\n",
       "    <tr>\n",
       "      <th>5</th>\n",
       "      <td>Random Forest</td>\n",
       "      <td>100.000000</td>\n",
       "    </tr>\n",
       "    <tr>\n",
       "      <th>6</th>\n",
       "      <td>Convolutional Neural Network</td>\n",
       "      <td>12.941177</td>\n",
       "    </tr>\n",
       "  </tbody>\n",
       "</table>\n",
       "</div>"
      ],
      "text/plain": [
       "                 Algorithm Name  Accuracy score (%)\n",
       "0           Logistic regression          100.000000\n",
       "1           K-Nearest Neighbors          100.000000\n",
       "2        Support Vector Machine          100.000000\n",
       "3                   Naive Bayes          100.000000\n",
       "4                 Decision Tree          100.000000\n",
       "5                 Random Forest          100.000000\n",
       "6  Convolutional Neural Network           12.941177"
      ]
     },
     "execution_count": 56,
     "metadata": {},
     "output_type": "execute_result"
    }
   ],
   "source": [
    "df"
   ]
  },
  {
   "cell_type": "code",
   "execution_count": 57,
   "id": "a476d2a1",
   "metadata": {},
   "outputs": [],
   "source": [
    "import matplotlib.pyplot as plt\n",
    "import seaborn as sns"
   ]
  },
  {
   "cell_type": "code",
   "execution_count": 58,
   "id": "2b30d74d",
   "metadata": {},
   "outputs": [
    {
     "data": {
      "image/png": "[encoded data removed]",
      "text/plain": [
       "<Figure size 1000x500 with 1 Axes>"
      ]
     },
     "metadata": {},
     "output_type": "display_data"
    }
   ],
   "source": [
    "fig = plt.subplots(figsize = (10,5))\n",
    "ax = sns.barplot(x = \"Accuracy score (%)\", y = \"Algorithm Name\", data =df)"
   ]
  },
  {
   "cell_type": "code",
   "execution_count": 59,
   "id": "a30e9460",
   "metadata": {},
   "outputs": [],
   "source": [
    "import os.path"
   ]
  },
  {
   "cell_type": "code",
   "execution_count": null,
   "id": "10d081bb",
   "metadata": {},
   "outputs": [],
   "source": [
    "if os.path.isfile('') is False:\n",
    "    CNN_model.save('')"
   ]
  }
 ],
 "metadata": {
  "kernelspec": {
   "display_name": "Python 3 (ipykernel)",
   "language": "python",
   "name": "python3"
  },
  "language_info": {
   "codemirror_mode": {
    "name": "ipython",
    "version": 3
   },
   "file_extension": ".py",
   "mimetype": "text/x-python",
   "name": "python",
   "nbconvert_exporter": "python",
   "pygments_lexer": "ipython3",
   "version": "3.11.4"
  }
 },
 "nbformat": 4,
 "nbformat_minor": 5
}
